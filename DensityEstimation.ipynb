{
  "nbformat": 4,
  "nbformat_minor": 0,
  "metadata": {
    "colab": {
      "provenance": [],
      "toc_visible": true,
      "authorship_tag": "ABX9TyNnFoi3iA3V50iK+TDTT2Px",
      "include_colab_link": true
    },
    "kernelspec": {
      "name": "python3",
      "display_name": "Python 3"
    },
    "language_info": {
      "name": "python"
    }
  },
  "cells": [
    {
      "cell_type": "markdown",
      "metadata": {
        "id": "view-in-github",
        "colab_type": "text"
      },
      "source": [
        "<a href=\"https://colab.research.google.com/github/KodaiS/ML-study/blob/main/DensityEstimation.ipynb\" target=\"_parent\"><img src=\"https://colab.research.google.com/assets/colab-badge.svg\" alt=\"Open In Colab\"/></a>"
      ]
    },
    {
      "cell_type": "markdown",
      "source": [
        "# [Density Estimation](https://scikit-learn.org/stable/modules/density.html#density-estimation)\n",
        "密度推定は、教師なし学習、特徴量エンジニアリング、データモデリングとの境界にある。最も一般的で有用な密度推定には、ガウシアンミクスチャー（GaussianMixture）のような混合モデルや、カーネル密度推定（KernelDensity）のような近傍ベースのアプローチがある。ガウシアンミクスチャーは、教師なしクラスタリング手法としても有用であるため、クラスタリングの文脈でより詳細に説明する。\n",
        "\n",
        "密度推定は非常に単純な概念であり、多くの人が慣れ親しんだ一般的な密度推定手法はヒストグラムである。"
      ],
      "metadata": {
        "id": "0Z6FgYb-FBk1"
      }
    },
    {
      "cell_type": "markdown",
      "source": [
        "## [Density Estimation: Histgrams](https://scikit-learn.org/stable/modules/density.html#density-estimation-histograms)\n",
        "ヒストグラムは、ビンを定義し、各ビン内のデータ数を集計することで、データを簡単に可視化したものである。次の図の左上のパネルがヒストグラムの例である。\n",
        "![](https://scikit-learn.org/stable/_images/sphx_glr_plot_kde_1d_001.png)\n",
        "ヒストグラムのメジャーな問題は、ビンの選び方が視覚化にバランスの悪い影響を与える可能性があることである。上図の右上のパネルでは、同じデータに対してビンを右にずらしてヒストグラムを表示したものである。二つの可視化の結果は全く異なったものに見え、異なったデータの解釈につながる可能性がある。\n",
        "\n",
        "直感的には、ヒストグラムは1点につき1つのブロックを積み重ねたものだと考えることもできる。ブロックを適切なグリッド空間に積み重ねることで、ヒストグラムを復元することができる。しかし、ブロックを規則正しく積み上げるのではなく、各ブロックをその点の中心に置き、各位置での高さの合計を求めるとしたらどうだろう。このアイデアが、左下のビジュアライゼーションにつながる。ヒストグラムほどきれいではないが、データが直接的にブロックの位置を決定しているため、データをよりよく表現している。\n",
        "\n",
        "この可視化はカーネル密度推定の例で、この場合はトップハットカーネル（つまり各点に正方形のブロックがある）を使っている。より滑らかなカーネルを使用することで、より滑らかな分布を復元することができる。右下のプロットはガウシアンカーネル密度推定を示し、各ポイントが全体でガウシアンカーブに寄与している。この結果、データから導かれた滑らかな密度推定値が得られ、データ点の分布の強力なノンパラメトリックモデルとして機能する。"
      ],
      "metadata": {
        "id": "VhxgdRwaHagQ"
      }
    },
    {
      "cell_type": "markdown",
      "source": [
        "## [Kernel Density Estimation](https://scikit-learn.org/stable/modules/density.html#kernel-density-estimation)"
      ],
      "metadata": {
        "id": "oEsXNJwdNZRb"
      }
    },
    {
      "cell_type": "markdown",
      "source": [
        "## [scikit-learn User Guide](https://scikit-learn.org/stable/modules/density.html#kernel-density)\n",
        "scikit-learn のカーネル密度推定は [KernelDensity](https://scikit-learn.org/stable/modules/generated/sklearn.neighbors.KernelDensity.html#sklearn.neighbors.KernelDensity) estimator で実装されており、効率的なクエリのために Ball Tree または KD Tree を使用する（これらの議論については [Nearest Neighbors](https://scikit-learn.org/stable/modules/neighbors.html#neighbors) を参照）。カーネル密度推定は任意の次元数で実行することができるが、実際には次元の呪いにより高次元で性能が低下する。\n",
        "次の図では、二峰性分布から100点を抽出し、3種類のカーネルを選択した場合のカーネル密度推定値を示している。\n",
        "![](https://scikit-learn.org/stable/_images/sphx_glr_plot_kde_1d_003.png)\n",
        "カーネルの形状が分布の滑らかさに影響を及ぼす。カーネル密度推定の実装は以下の通り。"
      ],
      "metadata": {
        "id": "-pbXx-LCVUvN"
      }
    },
    {
      "cell_type": "code",
      "source": [
        "from sklearn.neighbors import KernelDensity\n",
        "import numpy as np\n",
        "X = np.array([[-1, -1], [-2, -1], [-3, -2], [1, 1], [2, 1], [3, 2]])\n",
        "kde = KernelDensity(kernel='gaussian', bandwidth=0.2).fit(X)\n",
        "kde.score_samples(X)"
      ],
      "metadata": {
        "colab": {
          "base_uri": "https://localhost:8080/"
        },
        "id": "maWIWMo1XN1V",
        "outputId": "bb283ed4-2b13-4663-a3c8-d6da5c7eebac"
      },
      "execution_count": null,
      "outputs": [
        {
          "output_type": "execute_result",
          "data": {
            "text/plain": [
              "array([-0.41075698, -0.41075698, -0.41076071, -0.41075698, -0.41075698,\n",
              "       -0.41076071])"
            ]
          },
          "metadata": {},
          "execution_count": 16
        }
      ]
    },
    {
      "cell_type": "markdown",
      "source": [
        "ここで `kernel=\"gaussian\"` を設定すると、カーネルは正関数 $K(x;h)$ となり、`bandwidth` パラメータ $h$ で制御される。このカーネルでは、点$x_i; i=1\\cdots N$ における点 $y$ の密度推定を次の式で与える。\n",
        "\n",
        "$$\n",
        "\\rho_K(y) = \\sum_{i=1}^{N} K(y - x_i; h)\n",
        "$$\n",
        "\n",
        "[Wikipedia](https://ja.wikipedia.org/wiki/カーネル密度推定) では次の式で説明される。\n",
        "$$\n",
        "\\hat{f}_h (x) = \\frac{1}{nh} \\sum_{i=1}^{n} K\\left( \\frac{x - x_i}{h} \\right)\n",
        "$$\n",
        "\n",
        "$x_i$は分布から得られたデータ点を表す。$K \\left( \\frac{x - x_i}{h} \\right)$ は $x_i$ を中心とし、$h$ によって広がり方を調整された確率分布を与え、それを重ね合わせて全体の分布を推定する。\n",
        "\n",
        "`bandwidth`は平滑化パラメータとして機能し、結果のバイアスと分散のトレードオフを制御する。bandwidthを大きくすると、重ね合わせる確率分布の一つ一つの幅が大きくなり、結果として非常に滑らかな（つまり高バイアス）密度分布になり、bandwidthを小さくすると、一つ一つの幅は狭くなり、結果として非平滑な（すなわち高バリアンスの）密度分布になる。  パラメータ`bandwidth`は、手動で設定するか、ScottとSilvermannの推定法を使用することができる。\n",
        "\n",
        "[KernelDensity](https://scikit-learn.org/stable/modules/generated/sklearn.neighbors.KernelDensity.html#sklearn.neighbors.KernelDensity)はいくつかの一般的なカーネル形式を実装している。次の図に示す。\n",
        "![](https://scikit-learn.org/stable/_images/sphx_glr_plot_kde_1d_002.png)\n",
        "\n",
        "これらのカーネル形式は以下の通り。\n",
        "- Gaussian kernel (`kernel=\"gaussian\"`)\n",
        "$K(x; h) \\propto \\exp(- \\frac{x^2}{2h^2} )$\n",
        "\n",
        "- Tophat kernel (`kernel=\"tophat\"`)\n",
        "$K(x; h) \\propto 1$\n",
        "\n",
        "- Epanechnikov kernel (`kernel=\"epanechnikov\"`)\n",
        "$K(x; h) \\propto 1 - \\frac{x^2}{h^2}$\n",
        "\n",
        "- Exponential kernel (`kernel=\"exponential\"`)\n",
        "$K(x; h) \\propto \\exp(-x/h)$\n",
        "\n",
        "- Linear kernel (`kernel=\"linear\"`)\n",
        "$K(x; h) \\propto 1 - x/h$\n",
        "\n",
        "- Cosine kernel (`kernel=\",osine\"`)\n",
        "$K(x; h) \\propto \\cos(\\frac{\\pi x}{2h})$\n",
        "\n",
        "カーネル密度推定器は、有効な距離メトリクス（利用可能なメトリクスの一覧は[DistanceMetric](https://scikit-learn.org/stable/modules/generated/sklearn.metrics.DistanceMetric.html#sklearn.metrics.DistanceMetric)を参照）のいずれでも使用できるが、結果はユークリッドメトリクスのみで適切に正規化される。特に有用なメトリクスとして、球面上の点間の角度距離を測定する[Harversine distance](https://en.wikipedia.org/wiki/Haversine_formula)がある。ここでは、地理空間データの視覚化にカーネル密度推定を使用した例を示す。この例では、南米大陸における2つの異なる種の観測分布が示されている。\n",
        "![](https://scikit-learn.org/stable/_images/sphx_glr_plot_species_kde_001.png)\n",
        "カーネル密度推定の他の有用な応用例として、データセットのノンパラメトリックな生成モデルを学習し、この生成モデルから新しいサンプルを効率的に抽出することがある。ここでは、データのPCAで得た主成分で学習したガウスカーネルを用いて、手書きの数字の新しいセットを作成するプロセスを示す。新しいデータは、入力データの線形結合で構成され、重みはKDEモデルから確率的に抽出される。"
      ],
      "metadata": {
        "id": "kw8ed-tWXZQq"
      }
    },
    {
      "cell_type": "markdown",
      "source": [
        "## [Generate digits images example](https://scikit-learn.org/stable/auto_examples/neighbors/plot_digits_kde_sampling.html)"
      ],
      "metadata": {
        "id": "b03JSK8zVJSD"
      }
    },
    {
      "cell_type": "code",
      "execution_count": null,
      "metadata": {
        "id": "lHua-J7aNP4x"
      },
      "outputs": [],
      "source": [
        "import numpy as np\n",
        "import matplotlib.pyplot as plt\n",
        "\n",
        "from sklearn.datasets import load_digits\n",
        "from sklearn.neighbors import KernelDensity\n",
        "from sklearn.decomposition import PCA\n",
        "from sklearn.model_selection import GridSearchCV"
      ]
    },
    {
      "cell_type": "code",
      "source": [
        "digits = load_digits()"
      ],
      "metadata": {
        "id": "JlBH5lTbNl3P"
      },
      "execution_count": null,
      "outputs": []
    },
    {
      "cell_type": "code",
      "source": [
        "# PCAで圧縮\n",
        "pca = PCA(n_components=15, whiten=False)\n",
        "data = pca.fit_transform(digits.data)\n",
        "\n",
        "# 生成モデルを学習\n",
        "params = {\"bandwidth\": np.logspace(-1, 1, 20)}\n",
        "grid = GridSearchCV(KernelDensity(), params)\n",
        "grid.fit(data)"
      ],
      "metadata": {
        "colab": {
          "base_uri": "https://localhost:8080/",
          "height": 119
        },
        "id": "bzWjNiJgRJAa",
        "outputId": "99721ff1-1dff-4d53-aa9c-0bc493469e8f"
      },
      "execution_count": null,
      "outputs": [
        {
          "output_type": "execute_result",
          "data": {
            "text/plain": [
              "GridSearchCV(estimator=KernelDensity(),\n",
              "             param_grid={'bandwidth': array([ 0.1       ,  0.1274275 ,  0.16237767,  0.20691381,  0.26366509,\n",
              "        0.33598183,  0.42813324,  0.54555948,  0.6951928 ,  0.88586679,\n",
              "        1.12883789,  1.43844989,  1.83298071,  2.33572147,  2.97635144,\n",
              "        3.79269019,  4.83293024,  6.15848211,  7.8475997 , 10.        ])})"
            ],
            "text/html": [
              "<style>#sk-container-id-1 {color: black;background-color: white;}#sk-container-id-1 pre{padding: 0;}#sk-container-id-1 div.sk-toggleable {background-color: white;}#sk-container-id-1 label.sk-toggleable__label {cursor: pointer;display: block;width: 100%;margin-bottom: 0;padding: 0.3em;box-sizing: border-box;text-align: center;}#sk-container-id-1 label.sk-toggleable__label-arrow:before {content: \"▸\";float: left;margin-right: 0.25em;color: #696969;}#sk-container-id-1 label.sk-toggleable__label-arrow:hover:before {color: black;}#sk-container-id-1 div.sk-estimator:hover label.sk-toggleable__label-arrow:before {color: black;}#sk-container-id-1 div.sk-toggleable__content {max-height: 0;max-width: 0;overflow: hidden;text-align: left;background-color: #f0f8ff;}#sk-container-id-1 div.sk-toggleable__content pre {margin: 0.2em;color: black;border-radius: 0.25em;background-color: #f0f8ff;}#sk-container-id-1 input.sk-toggleable__control:checked~div.sk-toggleable__content {max-height: 200px;max-width: 100%;overflow: auto;}#sk-container-id-1 input.sk-toggleable__control:checked~label.sk-toggleable__label-arrow:before {content: \"▾\";}#sk-container-id-1 div.sk-estimator input.sk-toggleable__control:checked~label.sk-toggleable__label {background-color: #d4ebff;}#sk-container-id-1 div.sk-label input.sk-toggleable__control:checked~label.sk-toggleable__label {background-color: #d4ebff;}#sk-container-id-1 input.sk-hidden--visually {border: 0;clip: rect(1px 1px 1px 1px);clip: rect(1px, 1px, 1px, 1px);height: 1px;margin: -1px;overflow: hidden;padding: 0;position: absolute;width: 1px;}#sk-container-id-1 div.sk-estimator {font-family: monospace;background-color: #f0f8ff;border: 1px dotted black;border-radius: 0.25em;box-sizing: border-box;margin-bottom: 0.5em;}#sk-container-id-1 div.sk-estimator:hover {background-color: #d4ebff;}#sk-container-id-1 div.sk-parallel-item::after {content: \"\";width: 100%;border-bottom: 1px solid gray;flex-grow: 1;}#sk-container-id-1 div.sk-label:hover label.sk-toggleable__label {background-color: #d4ebff;}#sk-container-id-1 div.sk-serial::before {content: \"\";position: absolute;border-left: 1px solid gray;box-sizing: border-box;top: 0;bottom: 0;left: 50%;z-index: 0;}#sk-container-id-1 div.sk-serial {display: flex;flex-direction: column;align-items: center;background-color: white;padding-right: 0.2em;padding-left: 0.2em;position: relative;}#sk-container-id-1 div.sk-item {position: relative;z-index: 1;}#sk-container-id-1 div.sk-parallel {display: flex;align-items: stretch;justify-content: center;background-color: white;position: relative;}#sk-container-id-1 div.sk-item::before, #sk-container-id-1 div.sk-parallel-item::before {content: \"\";position: absolute;border-left: 1px solid gray;box-sizing: border-box;top: 0;bottom: 0;left: 50%;z-index: -1;}#sk-container-id-1 div.sk-parallel-item {display: flex;flex-direction: column;z-index: 1;position: relative;background-color: white;}#sk-container-id-1 div.sk-parallel-item:first-child::after {align-self: flex-end;width: 50%;}#sk-container-id-1 div.sk-parallel-item:last-child::after {align-self: flex-start;width: 50%;}#sk-container-id-1 div.sk-parallel-item:only-child::after {width: 0;}#sk-container-id-1 div.sk-dashed-wrapped {border: 1px dashed gray;margin: 0 0.4em 0.5em 0.4em;box-sizing: border-box;padding-bottom: 0.4em;background-color: white;}#sk-container-id-1 div.sk-label label {font-family: monospace;font-weight: bold;display: inline-block;line-height: 1.2em;}#sk-container-id-1 div.sk-label-container {text-align: center;}#sk-container-id-1 div.sk-container {/* jupyter's `normalize.less` sets `[hidden] { display: none; }` but bootstrap.min.css set `[hidden] { display: none !important; }` so we also need the `!important` here to be able to override the default hidden behavior on the sphinx rendered scikit-learn.org. See: https://github.com/scikit-learn/scikit-learn/issues/21755 */display: inline-block !important;position: relative;}#sk-container-id-1 div.sk-text-repr-fallback {display: none;}</style><div id=\"sk-container-id-1\" class=\"sk-top-container\"><div class=\"sk-text-repr-fallback\"><pre>GridSearchCV(estimator=KernelDensity(),\n",
              "             param_grid={&#x27;bandwidth&#x27;: array([ 0.1       ,  0.1274275 ,  0.16237767,  0.20691381,  0.26366509,\n",
              "        0.33598183,  0.42813324,  0.54555948,  0.6951928 ,  0.88586679,\n",
              "        1.12883789,  1.43844989,  1.83298071,  2.33572147,  2.97635144,\n",
              "        3.79269019,  4.83293024,  6.15848211,  7.8475997 , 10.        ])})</pre><b>In a Jupyter environment, please rerun this cell to show the HTML representation or trust the notebook. <br />On GitHub, the HTML representation is unable to render, please try loading this page with nbviewer.org.</b></div><div class=\"sk-container\" hidden><div class=\"sk-item sk-dashed-wrapped\"><div class=\"sk-label-container\"><div class=\"sk-label sk-toggleable\"><input class=\"sk-toggleable__control sk-hidden--visually\" id=\"sk-estimator-id-1\" type=\"checkbox\" ><label for=\"sk-estimator-id-1\" class=\"sk-toggleable__label sk-toggleable__label-arrow\">GridSearchCV</label><div class=\"sk-toggleable__content\"><pre>GridSearchCV(estimator=KernelDensity(),\n",
              "             param_grid={&#x27;bandwidth&#x27;: array([ 0.1       ,  0.1274275 ,  0.16237767,  0.20691381,  0.26366509,\n",
              "        0.33598183,  0.42813324,  0.54555948,  0.6951928 ,  0.88586679,\n",
              "        1.12883789,  1.43844989,  1.83298071,  2.33572147,  2.97635144,\n",
              "        3.79269019,  4.83293024,  6.15848211,  7.8475997 , 10.        ])})</pre></div></div></div><div class=\"sk-parallel\"><div class=\"sk-parallel-item\"><div class=\"sk-item\"><div class=\"sk-label-container\"><div class=\"sk-label sk-toggleable\"><input class=\"sk-toggleable__control sk-hidden--visually\" id=\"sk-estimator-id-2\" type=\"checkbox\" ><label for=\"sk-estimator-id-2\" class=\"sk-toggleable__label sk-toggleable__label-arrow\">estimator: KernelDensity</label><div class=\"sk-toggleable__content\"><pre>KernelDensity()</pre></div></div></div><div class=\"sk-serial\"><div class=\"sk-item\"><div class=\"sk-estimator sk-toggleable\"><input class=\"sk-toggleable__control sk-hidden--visually\" id=\"sk-estimator-id-3\" type=\"checkbox\" ><label for=\"sk-estimator-id-3\" class=\"sk-toggleable__label sk-toggleable__label-arrow\">KernelDensity</label><div class=\"sk-toggleable__content\"><pre>KernelDensity()</pre></div></div></div></div></div></div></div></div></div></div>"
            ]
          },
          "metadata": {},
          "execution_count": 3
        }
      ]
    },
    {
      "cell_type": "code",
      "source": [
        "print(f\"best bandwidth: {grid.best_estimator_.bandwidth}\")"
      ],
      "metadata": {
        "colab": {
          "base_uri": "https://localhost:8080/"
        },
        "id": "FQIQ7FhqT1Ma",
        "outputId": "eddc24a5-7277-4b82-d8bb-6a9312f7edaa"
      },
      "execution_count": null,
      "outputs": [
        {
          "output_type": "stream",
          "name": "stdout",
          "text": [
            "best bandwidth: 3.79269019073225\n"
          ]
        }
      ]
    },
    {
      "cell_type": "code",
      "source": [
        "kde = grid.best_estimator_"
      ],
      "metadata": {
        "id": "xQUaZqT6T-FR"
      },
      "execution_count": null,
      "outputs": []
    },
    {
      "cell_type": "code",
      "source": [
        "# 新しいデータを44個抽出し元の次元に復元する\n",
        "new_data = kde.sample(44, random_state=0)\n",
        "new_data = pca.inverse_transform(new_data)\n",
        "\n",
        "# プロットように整形\n",
        "new_data = new_data.reshape((4, 11, -1))\n",
        "real_data = digits.data[:44].reshape((4, 11, -1))"
      ],
      "metadata": {
        "id": "Dle5Ap4cUB6m"
      },
      "execution_count": null,
      "outputs": []
    },
    {
      "cell_type": "code",
      "source": [
        "fig, ax = plt.subplots(9, 11, subplot_kw=dict(xticks=[], yticks=[]))\n",
        "for j in range(11):\n",
        "    ax[4, j].set_visible(False)\n",
        "    for i in range(4):\n",
        "        im = ax[i, j].imshow(\n",
        "            real_data[i, j].reshape((8, 8)), cmap=plt.cm.binary, interpolation=\"nearest\"\n",
        "        )\n",
        "        im.set_clim(0, 16)\n",
        "        im = ax[i + 5, j].imshow(\n",
        "            new_data[i, j].reshape((8, 8)), cmap=plt.cm.binary, interpolation=\"nearest\"\n",
        "        )\n",
        "        im.set_clim(0, 16)\n",
        "\n",
        "ax[0, 5].set_title(\"Selection from the input data\")\n",
        "ax[5, 5].set_title('\"New\" digits drawn from the kernel density model')"
      ],
      "metadata": {
        "colab": {
          "base_uri": "https://localhost:8080/",
          "height": 445
        },
        "id": "HBsIj4yZUNNb",
        "outputId": "1c592f33-4641-4f4c-c64c-9b6a37e72ef5"
      },
      "execution_count": null,
      "outputs": [
        {
          "output_type": "execute_result",
          "data": {
            "text/plain": [
              "Text(0.5, 1.0, '\"New\" digits drawn from the kernel density model')"
            ]
          },
          "metadata": {},
          "execution_count": 8
        },
        {
          "output_type": "display_data",
          "data": {
            "text/plain": [
              "<Figure size 640x480 with 99 Axes>"
            ],
            "image/png": "[encoded data removed]"
          },
          "metadata": {}
        }
      ]
    },
    {
      "cell_type": "markdown",
      "source": [
        "## Supplement"
      ],
      "metadata": {
        "id": "Ua_SCQS8ITRA"
      }
    },
    {
      "cell_type": "markdown",
      "source": [
        "###  [K-D Tree](https://scikit-learn.org/stable/modules/neighbors.html#k-d-tree)\n",
        "ブルートフォースアプローチの計算効率の悪さに対処するために、様々なツリーベースのデータ構造が考案されてきた。一般に、これらの構造は、サンプルの集約的な距離情報を効率的に符号化することによって、必要な距離計算の回数を減らそうとするものである。基本的なアイデアは次の通り。ポイント $A$ がポイント $B$ から非常に遠く、ポイント $B$ とポイント $C$ が非常に近い場合、$A$ と $C$ は距離を計算せずとも非常に遠いことがわかる。このような方法で、最近傍法の計算コストを $O[D N \\log(N)]$ またはそれ以上に削減することができる。これはブルートフォース法の $N$ よりも大幅に改善されている。\n",
        "\n",
        "このように集約された情報を利用しようとする初期のアプローチが2次元のQuad-treeと3次元のOct-treeを任意の次元数に一般化したKD tree（K-dimensional treeの略）である。KDツリーは、パラメータ空間をデータ軸に沿って再帰的に分割し、データポイントがファイルされる入れ子の直交領域に分割するバイナリ木構造である。KDツリーの構築は、$D$次元の距離計算は不要で、データ軸に沿ってのみ分割が行われるため高速である。一旦構築されればクエリデータの最近傍は $O[\\log(N)]$ の距離計算コストのみで決定することができる。KDツリーアプローチは20未満の低次元での近傍探索においては非常に高速だが、次元 $D$ が非常に大きい場合には非効率になってしまう。これは、いわゆる「次元の呪い」の一つの現れである。\n",
        "scikit-learnでは、KDツリーの近傍探索はキーワード `algorithm=\"kd_tree\"` で指定され、クラス [KDTree](https://scikit-learn.org/stable/modules/generated/sklearn.neighbors.KDTree.html#sklearn.neighbors.KDTree) を使って計算される。"
      ],
      "metadata": {
        "id": "ophLkmcwIgHK"
      }
    },
    {
      "cell_type": "markdown",
      "source": [
        "### [Ball Tree](https://scikit-learn.org/stable/modules/neighbors.html#ball-tree)\n",
        "高次元におけるKDツリーの非効率性に対処するため、ボールツリーデータ構造が開発された。KDツリーがデカルト軸に沿ってデータを分割するのに対し、ボールツリーは一連の入れ子式超球でデータを分割する。このため、ツリーの構築はKDツリーよりもコストがかかるが、その結果、非常に高次元であっても、高度に構造化されたデータに対して非常に効率的なデータ構造となる。\n",
        "ボールツリーは、データを重心 $C$ と半径 $r$ で定義されるノードに再帰的に分割し、ノード内の各点が $r$ と $C$ で定義される超球内に位置するようにする：\n",
        "\n",
        "$$\n",
        "|x+y| \\leq |x| + |y|\n",
        "$$\n",
        "\n",
        "このセットアップでは、テスト点とセントロイド間の1回の距離計算で、ノード内の全ての点への距離の下界と上界を決定するのに十分である。ボールツリーノードは球面形状であるため、高次元ではKDツリーを上回る性能を発揮するが、実際の性能は学習データの構造に大きく依存する。scikit-learn では、ボールツリーベースの近傍探索は `algorithm=\"ball_tree\"` というキーワードで指定され、 [BallTree](https://scikit-learn.org/stable/modules/generated/sklearn.neighbors.BallTree.html#sklearn.neighbors.BallTree) クラスを使って計算される。あるいは、ユーザは [BallTree](https://scikit-learn.org/stable/modules/generated/sklearn.neighbors.BallTree.html#sklearn.neighbors.BallTree) クラスを直接操作することもできる。"
      ],
      "metadata": {
        "id": "h4ojbUd6KncL"
      }
    },
    {
      "cell_type": "code",
      "source": [],
      "metadata": {
        "id": "n_GAoaZS0PKO"
      },
      "execution_count": null,
      "outputs": []
    }
  ]
}