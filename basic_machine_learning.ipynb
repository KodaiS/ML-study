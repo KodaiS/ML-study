{
  "nbformat": 4,
  "nbformat_minor": 0,
  "metadata": {
    "colab": {
      "provenance": [],
      "collapsed_sections": [
        "B0RY9IcyavK1",
        "lwv1mFZfjIQ6"
      ],
      "toc_visible": true,
      "authorship_tag": "ABX9TyME9/GyGEV9TNY1HoqkoskL",
      "include_colab_link": true
    },
    "kernelspec": {
      "name": "python3",
      "display_name": "Python 3"
    },
    "language_info": {
      "name": "python"
    }
  },
  "cells": [
    {
      "cell_type": "markdown",
      "metadata": {
        "id": "view-in-github",
        "colab_type": "text"
      },
      "source": [
        "<a href=\"https://colab.research.google.com/github/KodaiS/ML-study/blob/main/basic_machine_learning.ipynb\" target=\"_parent\"><img src=\"https://colab.research.google.com/assets/colab-badge.svg\" alt=\"Open In Colab\"/></a>"
      ]
    },
    {
      "cell_type": "markdown",
      "source": [
        "# 分類モデルの学習"
      ],
      "metadata": {
        "id": "XN_pzKV67L2M"
      }
    },
    {
      "cell_type": "markdown",
      "source": [
        "## ライブラリのインポート\n",
        "便利なツールセットを使えるようにする"
      ],
      "metadata": {
        "id": "3lJqwm4ENYYb"
      }
    },
    {
      "cell_type": "code",
      "source": [
        "import matplotlib.pyplot as plt\n",
        "from sklearn.datasets import load_iris\n",
        "from sklearn.linear_model import LogisticRegression\n",
        "from sklearn.model_selection import train_test_split"
      ],
      "metadata": {
        "id": "Glxi1fMHMoWS"
      },
      "execution_count": 30,
      "outputs": []
    },
    {
      "cell_type": "markdown",
      "source": [
        "## データを取得"
      ],
      "metadata": {
        "id": "BTUJ1XIkNf5B"
      }
    },
    {
      "cell_type": "code",
      "source": [
        "# データを取得する\n",
        "iris = load_iris()\n",
        "\n",
        "X = iris.data   # 特徴量\n",
        "y = iris.target # 目的変数\n",
        "\n",
        "feature_names = iris.feature_names # 特徴量の名前\n",
        "target_names = iris.target_names   # 目的変数の名前"
      ],
      "metadata": {
        "id": "eMblkvCpMeyt"
      },
      "execution_count": 11,
      "outputs": []
    },
    {
      "cell_type": "markdown",
      "source": [
        "## データの確認"
      ],
      "metadata": {
        "id": "8uV0zRK8NmS7"
      }
    },
    {
      "cell_type": "code",
      "source": [
        "# データ数（150データ、特徴量は4つ）\n",
        "print(\"X shape: \", X.shape)\n",
        "print(\"y shape: \", y.shape)"
      ],
      "metadata": {
        "id": "lJ_RVrYDORt9",
        "outputId": "cb8d61bb-4c71-4224-85fa-b43801a3da3e",
        "colab": {
          "base_uri": "https://localhost:8080/"
        }
      },
      "execution_count": 27,
      "outputs": [
        {
          "output_type": "stream",
          "name": "stdout",
          "text": [
            "X shape:  (150, 4)\n",
            "y shape:  (150,)\n"
          ]
        }
      ]
    },
    {
      "cell_type": "code",
      "source": [
        "# 先頭5データの特徴量を表示 (sepal: がく、petal: 花弁)\n",
        "print(\"特徴量の名前: \\n\", feature_names)\n",
        "print(\"特徴量: \\n\", X[:5])"
      ],
      "metadata": {
        "id": "DrDvR4ZtMt3I",
        "outputId": "704150ab-a6bf-447c-c82f-004956656d7a",
        "colab": {
          "base_uri": "https://localhost:8080/"
        }
      },
      "execution_count": 24,
      "outputs": [
        {
          "output_type": "stream",
          "name": "stdout",
          "text": [
            "特徴量の名前: \n",
            " ['sepal length (cm)', 'sepal width (cm)', 'petal length (cm)', 'petal width (cm)']\n",
            "特徴量: \n",
            " [[5.1 3.5 1.4 0.2]\n",
            " [4.9 3.  1.4 0.2]\n",
            " [4.7 3.2 1.3 0.2]\n",
            " [4.6 3.1 1.5 0.2]\n",
            " [5.  3.6 1.4 0.2]]\n"
          ]
        }
      ]
    },
    {
      "cell_type": "code",
      "source": [
        "print(\"目的変数の名前: \\n\", target_names)\n",
        "print(\"目的変数: \\n\", y)"
      ],
      "metadata": {
        "id": "cO0O-aG2OnZl",
        "outputId": "887fd24f-2c2c-42c7-ee28-b724c45c3627",
        "colab": {
          "base_uri": "https://localhost:8080/"
        }
      },
      "execution_count": 29,
      "outputs": [
        {
          "output_type": "stream",
          "name": "stdout",
          "text": [
            "目的変数の名前: \n",
            " ['setosa' 'versicolor' 'virginica']\n",
            "目的変数: \n",
            " [0 0 0 0 0 0 0 0 0 0 0 0 0 0 0 0 0 0 0 0 0 0 0 0 0 0 0 0 0 0 0 0 0 0 0 0 0\n",
            " 0 0 0 0 0 0 0 0 0 0 0 0 0 1 1 1 1 1 1 1 1 1 1 1 1 1 1 1 1 1 1 1 1 1 1 1 1\n",
            " 1 1 1 1 1 1 1 1 1 1 1 1 1 1 1 1 1 1 1 1 1 1 1 1 1 1 2 2 2 2 2 2 2 2 2 2 2\n",
            " 2 2 2 2 2 2 2 2 2 2 2 2 2 2 2 2 2 2 2 2 2 2 2 2 2 2 2 2 2 2 2 2 2 2 2 2 2\n",
            " 2 2]\n"
          ]
        }
      ]
    },
    {
      "cell_type": "markdown",
      "source": [
        "## 分布の確認"
      ],
      "metadata": {
        "id": "RjMWsPylO4lq"
      }
    },
    {
      "cell_type": "code",
      "source": [
        "# プロットに使う特徴量\n",
        "feat_x = 0\n",
        "feat_y = 1\n",
        "\n",
        "# 散布図を描く\n",
        "plt.scatter(X[y==0, feat_x], X[y==0, feat_y], label=target_names[0])\n",
        "plt.scatter(X[y==1, feat_x], X[y==1, feat_y], label=target_names[1])\n",
        "plt.scatter(X[y==2, feat_x], X[y==2, feat_y], label=target_names[2])\n",
        "\n",
        "# ラベルを描く\n",
        "plt.xlabel(feature_names[0])\n",
        "plt.ylabel(feature_names[1])\n",
        "plt.legend()\n",
        "\n",
        "plt.show()"
      ],
      "metadata": {
        "id": "EUzMJvDeO7sa",
        "outputId": "bb127d89-0c9d-4380-807b-49ca57685767",
        "colab": {
          "base_uri": "https://localhost:8080/",
          "height": 452
        }
      },
      "execution_count": 43,
      "outputs": [
        {
          "output_type": "display_data",
          "data": {
            "text/plain": [
              "<Figure size 640x480 with 1 Axes>"
            ],
            "image/png": "[encoded data removed]"
          },
          "metadata": {}
        }
      ]
    },
    {
      "cell_type": "code",
      "source": [
        "\n",
        "\n",
        "# データを訓練データとテストデータに分割\n",
        "X_train, X_test, y_train, y_test = train_test_split(X, y, test_size=0.3, random_state=0)"
      ],
      "metadata": {
        "id": "7lP6D8KlMhqc"
      },
      "execution_count": 4,
      "outputs": []
    },
    {
      "cell_type": "code",
      "source": [
        "# ロジスティック回帰モデルのインスタンスを作成\n",
        "model = LogisticRegression(max_iter=1000)"
      ],
      "metadata": {
        "id": "HS8h090GMjdj"
      },
      "execution_count": 5,
      "outputs": []
    },
    {
      "cell_type": "code",
      "source": [
        "# モデルを訓練データで学習\n",
        "model.fit(X_train, y_train)"
      ],
      "metadata": {
        "id": "6ilnPkRxMkxr"
      },
      "execution_count": null,
      "outputs": []
    }
  ]
}